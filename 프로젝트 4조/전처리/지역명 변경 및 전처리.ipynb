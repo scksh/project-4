{
 "cells": [
  {
   "cell_type": "code",
   "execution_count": 1,
   "id": "cf02d942-e8f2-470a-874e-dfcfa96333ef",
   "metadata": {},
   "outputs": [
    {
     "name": "stdout",
     "output_type": "stream",
     "text": [
      "Defaulting to user installation because normal site-packages is not writeable\n",
      "Requirement already satisfied: pandas in c:\\programdata\\anaconda3\\lib\\site-packages (2.2.2)\n",
      "Requirement already satisfied: numpy>=1.26.0 in c:\\programdata\\anaconda3\\lib\\site-packages (from pandas) (1.26.4)\n",
      "Requirement already satisfied: python-dateutil>=2.8.2 in c:\\programdata\\anaconda3\\lib\\site-packages (from pandas) (2.9.0.post0)\n",
      "Requirement already satisfied: pytz>=2020.1 in c:\\programdata\\anaconda3\\lib\\site-packages (from pandas) (2024.1)\n",
      "Requirement already satisfied: tzdata>=2022.7 in c:\\programdata\\anaconda3\\lib\\site-packages (from pandas) (2023.3)\n",
      "Requirement already satisfied: six>=1.5 in c:\\programdata\\anaconda3\\lib\\site-packages (from python-dateutil>=2.8.2->pandas) (1.16.0)\n",
      "Note: you may need to restart the kernel to use updated packages.\n"
     ]
    }
   ],
   "source": [
    "pip install pandas"
   ]
  },
  {
   "cell_type": "code",
   "execution_count": 2,
   "id": "bb6e9712-bc84-415d-af0d-506304ac3aa5",
   "metadata": {},
   "outputs": [],
   "source": [
    "import pandas as pd"
   ]
  },
  {
   "cell_type": "markdown",
   "id": "ec463db4-0c44-4312-9f90-7c08d67764d3",
   "metadata": {},
   "source": [
    "### 지역명 통일화 ###"
   ]
  },
  {
   "cell_type": "code",
   "execution_count": 11,
   "id": "3ca79b92-4639-4448-a2cc-64c1b75cdbb5",
   "metadata": {},
   "outputs": [
    {
     "name": "stdout",
     "output_type": "stream",
     "text": [
      "  구역 코드       위치   반경         위도          경도\n",
      "0  UA 2  전주(구성산)  1.8  35.739167  127.007500\n",
      "1  UA 3   대구(약산)  0.7  35.739167  128.417222\n",
      "2  UA 4  울산(봉화산)  4.0  35.625278  129.092222\n",
      "3  UA 5  남원(덕두산)  4.5  35.411389  127.532500\n",
      "4  UA 6       금산  2.1  34.736389  127.981111\n",
      "['전주(구성산)' '대구(약산)' '울산(봉화산)' '남원(덕두산)' '금산' '전주(홍산)' '고창' '광주(방장산)'\n",
      " '제주(구좌)' '제주(지악산)' '천안(서운산)' '천안(오천)' '천안(북좌)' '양평(퇴촌)' '대구(고령)' '광주'\n",
      " '광주(광주 북구 영산강변 드론공원)' '서울(광나루 한강변 드론공원)']\n"
     ]
    }
   ],
   "source": [
    "### Circle_Table ###\n",
    "\n",
    "# CSV 파일을 불러옵니다.\n",
    "df = pd.read_csv(\"C:/Users/user/Desktop/python 정리집/웹크롤링 팀프로젝트/Circle_table.csv\", encoding='utf-8')\n",
    "\n",
    "# 위치 변경 매핑을 정의합니다.\n",
    "location_map = {\n",
    "    '구성산': '전주(구성산)',\n",
    "    '약산': '대구(약산)',\n",
    "    '봉화산': '울산(봉화산)',\n",
    "    '덕두산': '남원(덕두산)',\n",
    "    '홍산': '전주(홍산)',\n",
    "    '방장산': '광주(방장산)',\n",
    "    '구좌': '제주(구좌)',\n",
    "    '미악산': '제주(지악산)',\n",
    "    '서운산': '천안(서운산)',\n",
    "    '오천': '천안(오천)',\n",
    "    '북좌': '천안(북좌)',\n",
    "    '퇴촌': '양평(퇴촌)',\n",
    "    '고령': '대구(고령)',\n",
    "    '광주 북구 영산강변 드론공원': '광주(광주 북구 영산강변 드론공원)',\n",
    "    '광나루 한강변 드론공원': '서울(광나루 한강변 드론공원)'\n",
    "}\n",
    "\n",
    "# '위치' 컬럼에 있는 값들을 매핑된 값으로 바꿔줍니다.\n",
    "df['위치'] = df['위치'].map(location_map).fillna(df['위치'])\n",
    "\n",
    "# 변경된 DataFrame을 새로운 CSV 파일로 저장합니다.\n",
    "df.to_csv('지역명변경_Circle_table.csv', encoding='utf-8', index=False)\n",
    "\n",
    "# 결과 확인\n",
    "print(df.head())  # 앞부분 5개의 데이터를 출력하여 확인"
   ]
  },
  {
   "cell_type": "code",
   "execution_count": 12,
   "id": "da634516-f239-45b2-a493-948471b68b25",
   "metadata": {},
   "outputs": [
    {
     "name": "stdout",
     "output_type": "stream",
     "text": [
      "   구역 코드       위치                                                 NE\n",
      "0   UA 9       양평  [(37.45, 127.38333333333334), (37.502777777777...\n",
      "1  UA 14   세종(공주)  [(36.45805555555556, 126.96388888888889), (36....\n",
      "2  UA 19  수원(시화호)  [(37.212500000000006, 126.67472222222223), (37...\n",
      "3  UA 25   광양(하동)  [(34.98777777777778, 127.72333333333333), (35....\n",
      "4  UA 26  영월(장암산)  [(37.36972222222222, 128.39194444444445), (37....\n",
      "['양평' '세종(공주)' '수원(시화호)' '광양(하동)' '영월(장암산)' '인천(청라)' '청주(병천천)' '청주(미호천)'\n",
      " '김해' '밀양' '창원' '울산(울주)' '군산(김제)' '대전' '영월' '대전(대전 금강변 드론공원)']\n"
     ]
    }
   ],
   "source": [
    "### NE_Table ###\n",
    "\n",
    "# CSV 파일을 불러옵니다.\n",
    "df = pd.read_csv(\"C:/Users/user/Desktop/python 정리집/웹크롤링 팀프로젝트/NE_table.csv\", encoding='utf-8')\n",
    "\n",
    "# 위치 변경 매핑을 정의합니다.\n",
    "location_map = {\n",
    "    '공주': '세종(공주)',\n",
    "    '시화호': '수원(시화호)',\n",
    "    '하동': '광양(하동)',\n",
    "    '장암산': '영월(장암산)',\n",
    "    '청라': '인천(청라)',\n",
    "    '병천천': '청주(병천천)',\n",
    "    '미호천': '청주(미호천)',\n",
    "    '울주': '울산(울주)',\n",
    "    '김제': '군산(김제)',\n",
    "    '대전 금강변 드론공원': '대전(대전 금강변 드론공원)'\n",
    "}\n",
    "\n",
    "# '위치' 컬럼에 있는 값들을 매핑된 값으로 바꿔줍니다.\n",
    "df['위치'] = df['위치'].map(location_map).fillna(df['위치'])\n",
    "\n",
    "# 변경된 DataFrame을 새로운 CSV 파일로 저장합니다.\n",
    "df.to_csv('지역명변경_NE_table.csv', encoding='utf-8', index=False)\n",
    "\n",
    "# 결과 확인\n",
    "print(df.head())  # 앞부분 5개의 데이터를 출력하여 확인"
   ]
  },
  {
   "cell_type": "markdown",
   "id": "9ea64ebd-2113-4954-aa15-9aa6b70f8008",
   "metadata": {},
   "source": [
    "### 기상데이터 지역별/월별 데이터 전처리 ###"
   ]
  },
  {
   "cell_type": "code",
   "execution_count": 5,
   "id": "7b1a7b74-83f6-4e72-8d86-2c668f8a886d",
   "metadata": {
    "scrolled": true
   },
   "outputs": [
    {
     "name": "stdout",
     "output_type": "stream",
     "text": [
      "   stnId stnNm   yyyymm  days_in_month  yn_month  avg_yn_month\n",
      "0     90    속초  2024-01             31        17      0.548387\n",
      "1     90    속초  2024-02             29        13      0.448276\n",
      "2     90    속초  2024-03             31        18      0.580645\n",
      "3     90    속초  2024-04             30        25      0.833333\n",
      "4     90    속초  2024-05             31        24      0.774194\n",
      "\n",
      "yyyymm  2024-01  2024-02  2024-03  2024-04  2024-05  2024-06  2024-07  \\\n",
      "stnNm                                                                   \n",
      "강릉           20       13       21       24       26       21       14   \n",
      "강진군          15       14       18       20       22       23       13   \n",
      "강화           10       12       24       24       24       23       11   \n",
      "거제           20       15       21       21       22       21       10   \n",
      "거창           13       15       18       20       20       21       15   \n",
      "...         ...      ...      ...      ...      ...      ...      ...   \n",
      "합천           17       16       22       21       21       23       12   \n",
      "해남           17       13       18       19       22       23       13   \n",
      "홍성            9       16       20       22       23       25       12   \n",
      "홍천            8       12       20       24       24       21       12   \n",
      "흑산도          16       13       20       22       25       24       12   \n",
      "\n",
      "yyyymm  2024-08  2024-09  2024-10  2024-11  2024-12   합계  \n",
      "stnNm                                                     \n",
      "강릉           21       13       23       22       27  245  \n",
      "강진군          25       19       18       20       25  232  \n",
      "강화           19       20       21       20        8  216  \n",
      "거제           23       25       18       24       31  251  \n",
      "거창           23       24       21       24       23  237  \n",
      "...         ...      ...      ...      ...      ...  ...  \n",
      "합천           26       24       22       26       29  259  \n",
      "해남           23       21       19       20       26  234  \n",
      "홍성           21       23       21       20       15  227  \n",
      "홍천           25       20       23       22        5  216  \n",
      "흑산도          26       22       16       14       20  230  \n",
      "\n",
      "[96 rows x 13 columns]\n"
     ]
    }
   ],
   "source": [
    "# 1. CSV 파일 읽어오기 (다른 인코딩 시도)\n",
    "file_path = \"C:/Users/user/Desktop/python 정리집/웹크롤링 팀프로젝트/기상데이터/weather_yn.csv\"\n",
    "\n",
    "# euc-kr 또는 utf-8-sig 시도 (한글 깨짐 해결)\n",
    "df = pd.read_csv(file_path, encoding='euc-kr')  # 또는 encoding='euc-kr'\n",
    "\n",
    "# 2. 데이터 구조 확인 (선택사항)\n",
    "print(df.head())  # 처음 몇 줄을 출력하여 데이터 구조를 확인합니다.\n",
    "print()\n",
    "\n",
    "# 3. 지역별로 월별 종합 수치를 그룹화\n",
    "pivot_table = df.pivot_table(index='stnNm', columns='yyyymm', values='yn_month', aggfunc='sum', fill_value=0)\n",
    "\n",
    "# 4. 지역별 총합 컬럼 추가\n",
    "pivot_table['합계'] = pivot_table.sum(axis=1)\n",
    "\n",
    "# 5. 결과 확인\n",
    "print(pivot_table)\n",
    "\n",
    "# 6. 결과를 새로운 CSV 파일로 저장 (선택사항)\n",
    "pivot_table.to_csv('Total_Tabel.csv', encoding='utf-8')  # 한글이 깨지지 않도록 UTF-8-sig로 저장"
   ]
  },
  {
   "cell_type": "markdown",
   "id": "45ccb6da-03df-4238-aa7e-2006158a4dff",
   "metadata": {},
   "source": [
    "### 기상데이터와 지역데이터 결합 ###"
   ]
  },
  {
   "cell_type": "code",
   "execution_count": 6,
   "id": "b94ebf85-2db6-443f-901e-e48034085362",
   "metadata": {},
   "outputs": [
    {
     "name": "stdout",
     "output_type": "stream",
     "text": [
      "     stnId stnNm   yyyymm  days_in_month  yn_month  avg_yn_month\n",
      "0      121    영월  2024-01             31        12      0.387097\n",
      "1      121    영월  2024-02             29        15      0.517241\n",
      "2      121    영월  2024-03             31        18      0.580645\n",
      "3      121    영월  2024-04             30        25      0.833333\n",
      "4      121    영월  2024-05             31        21      0.677419\n",
      "..     ...   ...      ...            ...       ...           ...\n",
      "127    288    밀양  2024-08             31        21      0.677419\n",
      "128    288    밀양  2024-09             30        25      0.833333\n",
      "129    288    밀양  2024-10             31        20      0.645161\n",
      "130    288    밀양  2024-11             30        26      0.866667\n",
      "131    288    밀양  2024-12             31        30      0.967742\n",
      "\n",
      "[132 rows x 6 columns]\n"
     ]
    }
   ],
   "source": [
    "# 1. CSV 파일들을 불러옵니다.\n",
    "circle_df = pd.read_csv(\"C:/Users/user/Desktop/python 정리집/웹크롤링 팀프로젝트/Circle_table.csv\")\n",
    "ne_df = pd.read_csv(\"C:/Users/user/Desktop/python 정리집/웹크롤링 팀프로젝트/NE_table.csv\")\n",
    "total_df = pd.read_csv(\"C:/Users/user/Desktop/python 정리집/웹크롤링 팀프로젝트/기상데이터/weather_yn.csv\", encoding='cp949')\n",
    "\n",
    "# 2. '지역명변경_Circle_table.csv'와 '지역명변경_NE_table.csv'에서 '위치' 컬럼에서 앞 두 자리를 추출합니다.\n",
    "circle_df['위치_앞두자리'] = circle_df['위치'].str[:2]\n",
    "ne_df['위치_앞두자리'] = ne_df['위치'].str[:2]\n",
    "\n",
    "# 3. 'Total_Tabel.csv'의 'stnNm' 컬럼에서 앞 두 자리를 추출하여 새로운 컬럼에 저장합니다.\n",
    "total_df['stnNm_앞두자리'] = total_df['stnNm'].str[:2]\n",
    "\n",
    "# 4. '지역명변경_Circle_table.csv'와 '지역명변경_NE_table.csv'에서 '위치_앞두자리'와 \n",
    "# 'Total_Tabel.csv'의 'stnNm_앞두자리'가 일치하는 값만 필터링합니다.\n",
    "\n",
    "# Circle_table에서 일치하는 데이터 필터링\n",
    "circle_filtered = circle_df[circle_df['위치_앞두자리'].isin(total_df['stnNm_앞두자리'])]\n",
    "\n",
    "# NE_table에서 일치하는 데이터 필터링\n",
    "ne_filtered = ne_df[ne_df['위치_앞두자리'].isin(total_df['stnNm_앞두자리'])]\n",
    "\n",
    "# 5. 필터링된 circle_filtered와 ne_filtered를 합칩니다.\n",
    "merged_filtered = pd.concat([circle_filtered, ne_filtered], ignore_index=True)\n",
    "\n",
    "# 6. Total_Tabel.csv에서 'stnNm'과 일치하는 '위치' 컬럼 앞 두 자리가 있는 데이터를 필터링합니다.\n",
    "final_filtered = total_df[total_df['stnNm_앞두자리'].isin(merged_filtered['위치_앞두자리'])]\n",
    "\n",
    "# 7. 인덱스를 초기화합니다.\n",
    "final_filtered = final_filtered.reset_index(drop=True)\n",
    "\n",
    "# 8. 'stnNm_앞두자리' 컬럼을 삭제합니다.\n",
    "final_filtered = final_filtered.drop(columns=['stnNm_앞두자리'])\n",
    "\n",
    "# 9. 필터링된 결과를 확인 (필요시)\n",
    "print(final_filtered)\n",
    "\n",
    "# 10. 결과를 파일로 저장 (필요시)\n",
    "# final_filtered.to_csv('필터링된_Total_Tabel.csv', encoding='utf-8', index=False)"
   ]
  },
  {
   "cell_type": "code",
   "execution_count": null,
   "id": "6b7cfd05-6b21-470a-9191-dc13b2a4d35a",
   "metadata": {},
   "outputs": [],
   "source": []
  }
 ],
 "metadata": {
  "kernelspec": {
   "display_name": "Python 3 (ipykernel)",
   "language": "python",
   "name": "python3"
  },
  "language_info": {
   "codemirror_mode": {
    "name": "ipython",
    "version": 3
   },
   "file_extension": ".py",
   "mimetype": "text/x-python",
   "name": "python",
   "nbconvert_exporter": "python",
   "pygments_lexer": "ipython3",
   "version": "3.12.7"
  }
 },
 "nbformat": 4,
 "nbformat_minor": 5
}
