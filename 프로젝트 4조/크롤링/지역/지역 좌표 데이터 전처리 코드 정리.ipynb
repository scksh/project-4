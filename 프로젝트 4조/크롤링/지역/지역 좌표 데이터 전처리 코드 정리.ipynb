{
 "cells": [
  {
   "cell_type": "markdown",
   "id": "5758491e-1ada-4ba6-b268-b37fe44ebd3b",
   "metadata": {},
   "source": [
    "## 1) 라이브러리 임포트"
   ]
  },
  {
   "cell_type": "code",
   "execution_count": 1,
   "id": "6ba62cdc-818e-47a7-9306-0bc820a40d53",
   "metadata": {},
   "outputs": [],
   "source": [
    "import urllib.request\n",
    "from bs4 import BeautifulSoup\n",
    "import pandas as pd\n",
    "import re\n",
    "import math"
   ]
  },
  {
   "cell_type": "markdown",
   "id": "d0a5f7a3-a584-4ac4-a812-ac818f1bc800",
   "metadata": {},
   "source": [
    "## 2) 데이터 전처리"
   ]
  },
  {
   "cell_type": "markdown",
   "id": "68b375f9-9e6d-41af-8ed0-740f414f7cdf",
   "metadata": {},
   "source": [
    "### 2.1) 웹 크롤링 후 DataFrame 생성 "
   ]
  },
  {
   "cell_type": "code",
   "execution_count": 2,
   "id": "116b104b-2379-4cfe-b0c9-77d982d788a2",
   "metadata": {},
   "outputs": [],
   "source": [
    "def fetch_data():\n",
    "    url = 'https://droneportal.or.kr/subList/22000000153'\n",
    "    headers = {'User-Agent': 'Mozilla/5.0'}\n",
    "    req = urllib.request.Request(url, headers=headers)\n",
    "    try:\n",
    "        html_data = urllib.request.urlopen(req).read().decode('utf-8')\n",
    "    except Exception as e:\n",
    "        print(\"웹 페이지 요청 실패:\", e)\n",
    "        exit()\n",
    "    soup = BeautifulSoup(html_data, 'html.parser')\n",
    "    tables = soup.find_all('table')\n",
    "    target_table = None\n",
    "    for table in tables:\n",
    "        if \"UA\" in table.get_text():\n",
    "            target_table = table\n",
    "            break\n",
    "    if target_table is None:\n",
    "        print(\"대상 테이블을 찾을 수 없습니다.\")\n",
    "        exit()\n",
    "    rows = target_table.find_all(\"tr\")\n",
    "    data = []\n",
    "    for row in rows:\n",
    "        cells = row.find_all([\"td\", \"th\"])\n",
    "        cell_texts = [cell.get_text(strip=True) for cell in cells][:4]\n",
    "        while len(cell_texts) < 4:\n",
    "            cell_texts.append(None)\n",
    "        # 행의 어느 셀에라도 \"UA\"와 숫자가 있으면 포함\n",
    "        if cell_texts and any(re.search(r'\\bUA\\s*\\d+\\b', cell) for cell in cell_texts if cell):\n",
    "            data.append(cell_texts)\n",
    "    columns = [\"구역 코드\", \"위치\", \"수평범위\", \"수직범위\"]\n",
    "    return pd.DataFrame(data, columns=columns)"
   ]
  },
  {
   "cell_type": "markdown",
   "id": "986e8839-79fc-4a82-bec5-026502e2598d",
   "metadata": {},
   "source": [
    "### 2.2.1) dms 형식 좌표 문자열을 십진수 좌표로 변환하는 함수"
   ]
  },
  {
   "cell_type": "code",
   "execution_count": 3,
   "id": "091a9645-711d-4317-ab21-230fa21bf4d2",
   "metadata": {},
   "outputs": [],
   "source": [
    "def dms_to_dd(dms_str):\n",
    "    m = re.match(r\"(\\d{2,3})(\\d{2})(\\d{2})([NSEW])\", dms_str.replace(\" \", \"\"))\n",
    "    if not m:\n",
    "        return None\n",
    "    deg, minute, second, direction = m.groups()\n",
    "    dd = int(deg) + int(minute) / 60 + int(second) / 3600\n",
    "    if direction in [\"S\", \"W\"]:\n",
    "        dd *= -1\n",
    "    return dd"
   ]
  },
  {
   "cell_type": "markdown",
   "id": "af2b42f0-31fe-45ec-8da6-e9997530df20",
   "metadata": {},
   "source": [
    "### 2.2.2) 원형 좌표 데이터(Circle 데이터) 추출 함수"
   ]
  },
  {
   "cell_type": "code",
   "execution_count": 4,
   "id": "01ac860c-98e2-43b6-92e6-893b82ddecfc",
   "metadata": {},
   "outputs": [],
   "source": [
    "def extract_circle_data(text, region):\n",
    "    m = re.search(\n",
    "        r'Circle with radius of ([\\d.]+)\\s*(km|m).*?centered on\\s*([\\d]{6,7}[NSEW])\\s*([\\d]{6,7}[NSEW])',\n",
    "        text\n",
    "    )\n",
    "    if m:\n",
    "        radius = float(m.group(1))\n",
    "        unit = m.group(2).lower()\n",
    "        if unit == \"m\":\n",
    "            radius /= 1000\n",
    "        lat_str = m.group(3)\n",
    "        lon_str = m.group(4)\n",
    "        # 지역명이 \"광주\"인 경우에만 경도 교정 (예: 128... → 126...)\n",
    "        if region and \"광주\" in region:\n",
    "            if lon_str.startswith(\"128\"):\n",
    "                lon_str = \"126\" + lon_str[3:]\n",
    "        return radius, dms_to_dd(lat_str), dms_to_dd(lon_str)\n",
    "    return None, None, None"
   ]
  },
  {
   "cell_type": "markdown",
   "id": "c039f486-47bb-4351-b102-8cc003ebba04",
   "metadata": {},
   "source": [
    "### 2.2.3) 원형 좌표 데이터(Circle 데이터) 설정 및 입력 함수"
   ]
  },
  {
   "cell_type": "code",
   "execution_count": 5,
   "id": "8759997b-d397-4f21-ba3b-18ade2dc38bc",
   "metadata": {},
   "outputs": [],
   "source": [
    "def build_circle_table():\n",
    "    df = fetch_data()\n",
    "    df['반경'] = None\n",
    "    df['위도'] = None\n",
    "    df['경도'] = None\n",
    "    for idx, row in df.iterrows():\n",
    "        text = row['수평범위']\n",
    "        region = row['위치']  # 여기서는 '위치' 열에 지역명이 들어 있다고 가정\n",
    "        if text and \"Circle\" in text:\n",
    "            radius, lat, lon = extract_circle_data(text, region)\n",
    "            df.at[idx, '반경'] = radius\n",
    "            df.at[idx, '위도'] = lat\n",
    "            df.at[idx, '경도'] = lon\n",
    "    return df[df['반경'].notnull()][[\"구역 코드\", \"위치\", \"반경\", \"위도\", \"경도\"]].reset_index(drop=True)"
   ]
  },
  {
   "cell_type": "markdown",
   "id": "0548428f-4f7c-46ed-b77f-eb48e4d78563",
   "metadata": {},
   "source": [
    "### 2.3.1) 다각형 좌표 데이터(NE 데이터) 추출 함수"
   ]
  },
  {
   "cell_type": "code",
   "execution_count": 6,
   "id": "45424490-556c-4c34-991e-b83765486608",
   "metadata": {},
   "outputs": [],
   "source": [
    "def extract_ne_data(text):\n",
    "    matches = re.findall(r'(\\d{6,7}N)\\s*(\\d{6,7}E)', text)\n",
    "    result = []\n",
    "    for lat_str, lon_str in matches:\n",
    "        lat = dms_to_dd(lat_str)\n",
    "        lon = dms_to_dd(lon_str)\n",
    "        result.append((lat, lon))\n",
    "    return result if result else None\n",
    "\n",
    "def order_coords(coords):\n",
    "    if not coords or len(coords) <= 1:\n",
    "        return coords\n",
    "    cx = sum(pt[0] for pt in coords) / len(coords)\n",
    "    cy = sum(pt[1] for pt in coords) / len(coords)\n",
    "    return sorted(coords, key=lambda pt: math.atan2(pt[1]-cy, pt[0]-cx))"
   ]
  },
  {
   "cell_type": "markdown",
   "id": "3b60f37a-b8b8-413b-a24c-64848a7b786c",
   "metadata": {},
   "source": [
    "### 2.3.2) 다각형 좌표 데이터(NE 데이터) 설정 및 입력 함수"
   ]
  },
  {
   "cell_type": "code",
   "execution_count": 7,
   "id": "7a77b4a6-a186-403e-96a3-88f88128fe44",
   "metadata": {},
   "outputs": [],
   "source": [
    "# NE Table 빌드 함수\n",
    "def build_ne_table():\n",
    "    df = fetch_data()\n",
    "    df['NE'] = None\n",
    "    for idx, row in df.iterrows():\n",
    "        text = row['수평범위']\n",
    "        if text and \"Circle\" not in text:\n",
    "            ne_coords = extract_ne_data(text)\n",
    "            if ne_coords and len(ne_coords) > 1:\n",
    "                ne_coords = order_coords(ne_coords)\n",
    "            df.at[idx, 'NE'] = ne_coords\n",
    "    return df[df['NE'].notnull()][[\"구역 코드\", \"위치\", \"NE\"]].reset_index(drop=True)"
   ]
  },
  {
   "cell_type": "markdown",
   "id": "6a7a8a5c-30e6-4d5d-a6c0-e2fb52de5311",
   "metadata": {},
   "source": [
    "### 3.1) 지역 좌표 전처리 코드 실행 및 결과 출력"
   ]
  },
  {
   "cell_type": "code",
   "execution_count": 30,
   "id": "1a18b8a0-e3d5-4335-8342-78b871eed4da",
   "metadata": {},
   "outputs": [
    {
     "name": "stdout",
     "output_type": "stream",
     "text": [
      "=== Circle Table ===\n",
      "      구역 코드   위치    반경         위도          경도\n",
      "0      UA 2  구성산   1.8  35.739167    127.0075\n",
      "1      UA 3   약산   0.7  35.739167  128.417222\n",
      "2      UA 4  봉화산   4.0  35.625278  129.092222\n",
      "3      UA 5  덕두산   4.5  35.411389    127.5325\n",
      "4      UA 6   금산   2.1  34.736389  127.981111\n",
      "5      UA 7   홍산   1.2  35.828056  127.081111\n",
      "6     UA 10   고창   4.0  35.386389  126.731389\n",
      "7     UA 21  방장산   3.0  35.449444  126.738056\n",
      "8     UA 24   구좌   2.8  33.478056  126.822778\n",
      "9     UA 27  미악산   1.2       33.3  126.554444\n",
      "10    UA 28  서운산   2.0  36.930556  127.283056\n",
      "11    UA 29   오천   2.0  36.953056  127.287778\n",
      "12    UA 30   북좌   2.0     37.045  127.327778\n",
      "13  * UA 32   퇴촌   0.3  37.466667    127.3025\n",
      "14  * UA 40   고령  0.08  35.842778  128.444167\n",
      "15  **UA 42   광주  0.05  35.221667  126.861667\n",
      "=== NE Table ===\n",
      "      구역 코드   위치                                                 NE\n",
      "0      UA 9   양평  [(37.45, 127.38333333333334), (37.502777777777...\n",
      "1     UA 14   공주  [(36.45805555555556, 126.96388888888889), (36....\n",
      "2     UA 19  시화호  [(37.212500000000006, 126.67472222222223), (37...\n",
      "3     UA 25   하동  [(34.98777777777778, 127.72333333333333), (35....\n",
      "4     UA 26  장암산  [(37.36972222222222, 128.39194444444445), (37....\n",
      "5   * UA 31   청라  [(37.5625, 126.62666666666667), (37.565, 126.6...\n",
      "6   * UA 33  병천천  [(36.647777777777776, 127.34972222222221), (36...\n",
      "7   * UA 34  미호천  [(36.61388888888889, 127.3425), (36.6194444444...\n",
      "8   * UA 35   김해  [(35.34527777777778, 128.8063888888889), (35.3...\n",
      "9   * UA 36   밀양  [(35.46388888888889, 128.77416666666667), (35....\n",
      "10  * UA 37   창원  [(35.37027777777778, 128.64888888888888), (35....\n",
      "11  * UA 38   울주  [(35.52361111111111, 129.1627777777778), (35.5...\n",
      "12  * UA 39   김제  [(35.91083333333333, 126.89194444444445), (35....\n",
      "13  * UA 41   대전  [(36.45194444444445, 127.385), (36.465, 127.39...\n",
      "14  **UA 43   영월  [(37.17611111111111, 128.46027777777778), (37....\n"
     ]
    }
   ],
   "source": [
    "# 최종 지역 좌표 전처리 코드 실행\n",
    "if __name__ == \"__main__\":\n",
    "    circle_table = build_circle_table()\n",
    "    ne_table = build_ne_table()\n",
    "    print(\"=== Circle Table ===\")\n",
    "    print(circle_table)\n",
    "    print(\"=== NE Table ===\")\n",
    "    print(ne_table)"
   ]
  },
  {
   "cell_type": "markdown",
   "id": "5ba8c5e7-442d-444f-a347-37d637072aa4",
   "metadata": {},
   "source": [
    "### 3.2) csv 파일로 출력"
   ]
  },
  {
   "cell_type": "code",
   "execution_count": null,
   "id": "d0c32089-9330-4be1-92b7-600a8d552b6f",
   "metadata": {},
   "outputs": [],
   "source": [
    "circle_table.to_csv('Circle_table.csv', index=False, encoding='cp949')\n",
    "ne_table.to_csv('NE_table.csv', index=False, encoding='cp949')"
   ]
  },
  {
   "cell_type": "markdown",
   "id": "c5709431-b073-4280-8b8f-b230768e9476",
   "metadata": {},
   "source": [
    "## 4) 드론 공원 좌표 출력"
   ]
  },
  {
   "cell_type": "markdown",
   "id": "66b59a09-514b-4fa5-a1c1-d012f5a7ee85",
   "metadata": {},
   "source": [
    "### 4.1) 라이브러리 임포트"
   ]
  },
  {
   "cell_type": "code",
   "execution_count": 32,
   "id": "82717ff7-3522-4cf0-949a-47af01d48987",
   "metadata": {},
   "outputs": [],
   "source": [
    "import os\n",
    "import urllib.request\n",
    "from bs4 import BeautifulSoup\n",
    "import pandas as pd\n",
    "import re"
   ]
  },
  {
   "cell_type": "markdown",
   "id": "12034814-8315-453d-a818-cfc326847008",
   "metadata": {},
   "source": [
    "### 4.2) 좌표 변환 함수"
   ]
  },
  {
   "cell_type": "code",
   "execution_count": 33,
   "id": "d7c81596-675c-4650-9910-f308c0df3b81",
   "metadata": {},
   "outputs": [],
   "source": [
    "def parse_dms_extended(coord_str):\n",
    "    \"\"\"\n",
    "    '°' 기호가 포함된 좌표 문자열(예: \"37°32'47.9\\\"N\") 또는 \n",
    "    단순 DMS 형식(예: \"362754N\")을 소수점 좌표(십진수)로 변환합니다.\n",
    "    \"\"\"\n",
    "    coord_str = coord_str.strip()\n",
    "    if \"°\" in coord_str:\n",
    "        pattern = r\"(\\d+)[°]\\s*(\\d+)[\\'’]\\s*(\\d+(?:\\.\\d+)?)[\\\"']?\\s*([NSEW])\"\n",
    "        match = re.search(pattern, coord_str)\n",
    "        if match:\n",
    "            deg, minute, second, direction = match.groups()\n",
    "            dd = float(deg) + float(minute) / 60 + float(second) / 3600\n",
    "            if direction in ['S', 'W']:\n",
    "                dd = -dd\n",
    "            return dd\n",
    "        else:\n",
    "            return None\n",
    "    else:\n",
    "        pattern = r\"(\\d{2,3})(\\d{2})(\\d{2})([NSEW])\"\n",
    "        m = re.match(pattern, coord_str.replace(\" \", \"\"))\n",
    "        if m:\n",
    "            deg, minute, second, direction = m.groups()\n",
    "            dd = int(deg) + int(minute) / 60 + int(second) / 3600\n",
    "            if direction in ['S', 'W']:\n",
    "                dd = -dd\n",
    "            return dd\n",
    "        return None\n",
    "\n",
    "def extract_coordinates(text):\n",
    "    \"\"\"\n",
    "    주어진 텍스트에서 좌표 문자열을 모두 추출합니다.\n",
    "    - 먼저 ° 기호 포함 형식(예: \"37°32'47.9\\\"N\")을 우선적으로 찾고,\n",
    "    - 없으면 숫자만 있는 DMS 형식(예: \"362754N\")을 찾습니다.\n",
    "    \"\"\"\n",
    "    text = text.replace(\"–\", \" \")\n",
    "    pattern2 = r\"(\\d+[°]\\s*\\d+[\\'’]\\s*\\d+(?:\\.\\d+)?[\\\"']?\\s*[NSEW])\"\n",
    "    matches2 = re.findall(pattern2, text)\n",
    "    if matches2:\n",
    "        return matches2\n",
    "    else:\n",
    "        pattern1 = r\"(\\d{6,7}[NSEW])\"\n",
    "        return re.findall(pattern1, text)"
   ]
  },
  {
   "cell_type": "markdown",
   "id": "0799a2a5-da82-4b2e-86b9-f317bc48b115",
   "metadata": {},
   "source": [
    "### 4.3) 웹페이지 크롤링"
   ]
  },
  {
   "cell_type": "code",
   "execution_count": 34,
   "id": "73528888-3498-454e-8e7d-83d73740a7c8",
   "metadata": {},
   "outputs": [],
   "source": [
    "url = \"https://droneportal.or.kr/subList/22000000157\"\n",
    "headers = {'User-Agent': 'Mozilla/5.0'}\n",
    "req = urllib.request.Request(url, headers=headers)\n",
    "with urllib.request.urlopen(req) as response:\n",
    "    html_data = response.read().decode('utf-8')\n",
    "soup = BeautifulSoup(html_data, 'html.parser')\n",
    "page_text = soup.get_text(separator=\"\\n\")"
   ]
  },
  {
   "cell_type": "markdown",
   "id": "24591b18-ae2e-4fc0-834e-d2a38cf444d4",
   "metadata": {},
   "source": [
    "### 4.4) 원하는 항목만 남기기"
   ]
  },
  {
   "cell_type": "code",
   "execution_count": 35,
   "id": "edd73f58-2cb5-4481-9875-7bc193faf127",
   "metadata": {},
   "outputs": [
    {
     "name": "stdout",
     "output_type": "stream",
     "text": [
      "추출된 신규 데이터:\n",
      "                지역                                                 위치  \\\n",
      "0      대전 금강변 드론공원  대전 금강변 드론공원\\n\\n\\n\\n\\n\\n\\n\\n\\n\\n\\n\\n\\n대전 금강변 드론...   \n",
      "1  광주 북구 영산강변 드론공원  광주 북구 영산강변 드론공원\\n\\n\\n\\n\\n\\n\\n\\n\\n\\n\\n\\n\\n광주 북구...   \n",
      "2     광나루 한강변 드론공원  광나루 한강변 드론공원\\n\\n\\n\\n\\n\\n\\n\\n\\n\\n\\n\\n\\n광나루 한강변 ...   \n",
      "\n",
      "                                                  좌표  \n",
      "0  [(36.465, 127.39055555555557), (36.46583333333...  \n",
      "1          [(35.22166666666667, 126.86166666666666)]  \n",
      "2  [(37.546638888888886, 127.12052777777777), (12...  \n"
     ]
    }
   ],
   "source": [
    "# 2. 대상 항목 (고양 대덕 드론 비행장 제외한 3개)만 남기기\n",
    "target_titles = [\n",
    "    \"대전 금강변 드론공원\",\n",
    "    \"광주 북구 영산강변 드론공원\",\n",
    "    \"광나루 한강변 드론공원\"\n",
    "]\n",
    "\n",
    "results = []\n",
    "for i, title in enumerate(target_titles):\n",
    "    start_idx = page_text.find(title)\n",
    "    if start_idx == -1:\n",
    "        continue\n",
    "    if i < len(target_titles) - 1:\n",
    "        next_idx = page_text.find(target_titles[i+1], start_idx + len(title))\n",
    "        block = page_text[start_idx: next_idx] if next_idx != -1 else page_text[start_idx:]\n",
    "    else:\n",
    "        block = page_text[start_idx:]\n",
    "    \n",
    "    # 전체 블록에서 좌표 문자열 추출 (위치 텍스트가 따로 없을 수 있으므로)\n",
    "    coord_strs = extract_coordinates(block)\n",
    "    converted = [parse_dms_extended(cs) for cs in coord_strs if parse_dms_extended(cs) is not None]\n",
    "    pairs = []\n",
    "    for j in range(0, len(converted), 2):\n",
    "        if j+1 < len(converted):\n",
    "            pairs.append((converted[j], converted[j+1]))\n",
    "    \n",
    "    results.append({\n",
    "        \"지역\": title,\n",
    "        \"위치\": block.strip(),  # 원본 블록 텍스트를 위치로 사용 (추후 CSV의 위치 컬럼에 '지역' 값을 넣을 예정)\n",
    "        \"좌표\": pairs\n",
    "    })\n",
    "\n",
    "df_new = pd.DataFrame(results, columns=[\"지역\", \"위치\", \"좌표\"])\n",
    "print(\"추출된 신규 데이터:\")\n",
    "print(df_new)"
   ]
  },
  {
   "cell_type": "markdown",
   "id": "e5971c75-0271-46d7-8a21-835d3ef8e0e2",
   "metadata": {},
   "source": [
    "### 4.5) 기존의 csv 파일에 데이터 추가 - NE table"
   ]
  },
  {
   "cell_type": "code",
   "execution_count": 36,
   "id": "e0a5b531-f599-4004-b76b-d314b42362a1",
   "metadata": {},
   "outputs": [],
   "source": [
    "# 3. CSV 파일에 추가\n",
    "# (1) NE_table.csv: 대전 금강변 드론공원의 데이터 → [위치, NE]\n",
    "df_NE_new = df_new[df_new[\"지역\"] == \"대전 금강변 드론공원\"].copy()\n",
    "# '위치' 컬럼은 신규 데이터의 '지역' 값로 설정\n",
    "df_NE_new[\"위치\"] = df_NE_new[\"지역\"]\n",
    "# 'NE' 컬럼은 좌표 쌍을 문자열로 저장 (전체 쌍 목록)\n",
    "df_NE_new[\"NE\"] = df_NE_new[\"좌표\"].apply(lambda x: str(x))\n",
    "df_NE_new = df_NE_new[[\"위치\", \"NE\"]]\n",
    "\n",
    "if os.path.exists(\"NE_table.csv\"):\n",
    "    try:\n",
    "        df_NE_old = pd.read_csv(\"NE_table.csv\", encoding=\"utf-8-sig\")\n",
    "    except UnicodeDecodeError:\n",
    "        df_NE_old = pd.read_csv(\"NE_table.csv\", encoding=\"cp949\")\n",
    "else:\n",
    "    df_NE_old = pd.DataFrame(columns=[\"위치\", \"NE\"])\n",
    "df_NE = pd.concat([df_NE_old, df_NE_new], ignore_index=True)\n",
    "try:\n",
    "    df_NE.to_csv(\"NE_table.csv\", index=False, encoding=\"utf-8-sig\")\n",
    "except PermissionError:\n",
    "    print(\"NE_table.csv 파일에 쓰기 권한이 없습니다. 파일을 닫은 후 다시 실행하세요.\")\n",
    "    exit()"
   ]
  },
  {
   "cell_type": "markdown",
   "id": "5af09293-c5ca-4e85-8ccd-e3eebe666f40",
   "metadata": {},
   "source": [
    "### 4.6) 기존의 csv 파일에 데이터 추가 - Circle table"
   ]
  },
  {
   "cell_type": "code",
   "execution_count": 37,
   "id": "740524e8-703f-4642-9ee1-81eca8b1e3e7",
   "metadata": {},
   "outputs": [],
   "source": [
    "df_Circle_new = df_new[df_new[\"지역\"].isin([\"광주 북구 영산강변 드론공원\", \"광나루 한강변 드론공원\"])].copy()\n",
    "# '위치' 컬럼은 신규 데이터의 '지역' 값로 설정\n",
    "df_Circle_new[\"위치\"] = df_Circle_new[\"지역\"]\n",
    "def get_first_pair(pair_list):\n",
    "    if isinstance(pair_list, list) and len(pair_list) > 0:\n",
    "        return pair_list[0]\n",
    "    return (None, None)\n",
    "df_Circle_new[\"위도\"] = df_Circle_new[\"좌표\"].apply(lambda x: get_first_pair(x)[0])\n",
    "df_Circle_new[\"경도\"] = df_Circle_new[\"좌표\"].apply(lambda x: get_first_pair(x)[1])\n",
    "df_Circle_new = df_Circle_new[[\"위치\", \"위도\", \"경도\"]]\n",
    "\n",
    "if os.path.exists(\"Circle_table.csv\"):\n",
    "    try:\n",
    "        df_Circle_old = pd.read_csv(\"Circle_table.csv\", encoding=\"utf-8-sig\")\n",
    "    except UnicodeDecodeError:\n",
    "        df_Circle_old = pd.read_csv(\"Circle_table.csv\", encoding=\"cp949\")\n",
    "else:\n",
    "    df_Circle_old = pd.DataFrame(columns=[\"위치\", \"위도\", \"경도\"])\n",
    "df_Circle = pd.concat([df_Circle_old, df_Circle_new], ignore_index=True)\n",
    "try:\n",
    "    df_Circle.to_csv(\"Circle_table.csv\", index=False, encoding=\"utf-8-sig\")\n",
    "except PermissionError:\n",
    "    print(\"Circle_table.csv 파일에 쓰기 권한이 없습니다. 파일을 닫은 후 다시 실행하세요.\")\n",
    "    exit()"
   ]
  },
  {
   "cell_type": "code",
   "execution_count": null,
   "id": "4d2e872d-1113-4fc7-9b06-966919404bcc",
   "metadata": {},
   "outputs": [],
   "source": [
    "import os\n",
    "import urllib.request\n",
    "from bs4 import BeautifulSoup\n",
    "import pandas as pd\n",
    "import re\n",
    "\n",
    "def parse_dms_extended(coord_str):\n",
    "    \"\"\"\n",
    "    '°' 기호가 포함된 좌표 문자열(예: \"37°32'47.9\\\"N\") 또는 \n",
    "    단순 DMS 형식(예: \"362754N\")을 소수점 좌표(십진수)로 변환합니다.\n",
    "    \"\"\"\n",
    "    coord_str = coord_str.strip()\n",
    "    if \"°\" in coord_str:\n",
    "        pattern = r\"(\\d+)[°]\\s*(\\d+)[\\'’]\\s*(\\d+(?:\\.\\d+)?)[\\\"']?\\s*([NSEW])\"\n",
    "        match = re.search(pattern, coord_str)\n",
    "        if match:\n",
    "            deg, minute, second, direction = match.groups()\n",
    "            dd = float(deg) + float(minute) / 60 + float(second) / 3600\n",
    "            if direction in ['S', 'W']:\n",
    "                dd = -dd\n",
    "            return dd\n",
    "        else:\n",
    "            return None\n",
    "    else:\n",
    "        pattern = r\"(\\d{2,3})(\\d{2})(\\d{2})([NSEW])\"\n",
    "        m = re.match(pattern, coord_str.replace(\" \", \"\"))\n",
    "        if m:\n",
    "            deg, minute, second, direction = m.groups()\n",
    "            dd = int(deg) + int(minute) / 60 + int(second) / 3600\n",
    "            if direction in ['S', 'W']:\n",
    "                dd = -dd\n",
    "            return dd\n",
    "        return None\n",
    "\n",
    "def extract_coordinates(text):\n",
    "    \"\"\"\n",
    "    주어진 텍스트에서 좌표 문자열을 모두 추출합니다.\n",
    "    - 먼저 ° 기호 포함 형식(예: \"37°32'47.9\\\"N\")을 우선적으로 찾고,\n",
    "    - 없으면 숫자만 있는 DMS 형식(예: \"362754N\")을 찾습니다.\n",
    "    \"\"\"\n",
    "    text = text.replace(\"–\", \" \")\n",
    "    pattern2 = r\"(\\d+[°]\\s*\\d+[\\'’]\\s*\\d+(?:\\.\\d+)?[\\\"']?\\s*[NSEW])\"\n",
    "    matches2 = re.findall(pattern2, text)\n",
    "    if matches2:\n",
    "        return matches2\n",
    "    else:\n",
    "        pattern1 = r\"(\\d{6,7}[NSEW])\"\n",
    "        return re.findall(pattern1, text)\n",
    "\n",
    "# 1. 페이지 크롤링 및 전체 텍스트 추출\n",
    "url = \"https://droneportal.or.kr/subList/22000000157\"\n",
    "headers = {'User-Agent': 'Mozilla/5.0'}\n",
    "req = urllib.request.Request(url, headers=headers)\n",
    "with urllib.request.urlopen(req) as response:\n",
    "    html_data = response.read().decode('utf-8')\n",
    "soup = BeautifulSoup(html_data, 'html.parser')\n",
    "page_text = soup.get_text(separator=\"\\n\")\n",
    "\n",
    "# 2. 대상 항목 (고양 대덕 드론 비행장 제외한 3개)만 남기기\n",
    "target_titles = [\n",
    "    \"대전 금강변 드론공원\",\n",
    "    \"광주 북구 영산강변 드론공원\",\n",
    "    \"광나루 한강변 드론공원\"\n",
    "]\n",
    "\n",
    "results = []\n",
    "for i, title in enumerate(target_titles):\n",
    "    start_idx = page_text.find(title)\n",
    "    if start_idx == -1:\n",
    "        continue\n",
    "    if i < len(target_titles) - 1:\n",
    "        next_idx = page_text.find(target_titles[i+1], start_idx + len(title))\n",
    "        block = page_text[start_idx: next_idx] if next_idx != -1 else page_text[start_idx:]\n",
    "    else:\n",
    "        block = page_text[start_idx:]\n",
    "    \n",
    "    # 전체 블록에서 좌표 문자열 추출 (위치 텍스트가 따로 없을 수 있으므로)\n",
    "    coord_strs = extract_coordinates(block)\n",
    "    converted = [parse_dms_extended(cs) for cs in coord_strs if parse_dms_extended(cs) is not None]\n",
    "    pairs = []\n",
    "    for j in range(0, len(converted), 2):\n",
    "        if j+1 < len(converted):\n",
    "            pairs.append((converted[j], converted[j+1]))\n",
    "    \n",
    "    results.append({\n",
    "        \"지역\": title,\n",
    "        \"위치\": block.strip(),  # 원본 블록 텍스트를 위치로 사용 (추후 CSV의 위치 컬럼에 '지역' 값을 넣을 예정)\n",
    "        \"좌표\": pairs\n",
    "    })\n",
    "\n",
    "df_new = pd.DataFrame(results, columns=[\"지역\", \"위치\", \"좌표\"])\n",
    "print(\"추출된 신규 데이터:\")\n",
    "print(df_new)"
   ]
  },
  {
   "cell_type": "markdown",
   "id": "519c0bdd-5b97-4a5f-bb72-579557122ee5",
   "metadata": {},
   "source": [
    "## 4) 지역명 통일화"
   ]
  },
  {
   "cell_type": "markdown",
   "id": "855ab7dc-d971-4167-bc51-305e4e7ad7da",
   "metadata": {},
   "source": [
    "### 4.1.1) Circle 데이터(원형 좌표) 불러오기"
   ]
  },
  {
   "cell_type": "code",
   "execution_count": 9,
   "id": "4684d72b-e33a-4b0c-a4ac-691548a230a1",
   "metadata": {},
   "outputs": [],
   "source": [
    "df_circle = build_circle_table()"
   ]
  },
  {
   "cell_type": "markdown",
   "id": "f8dd6061-f813-40dc-b60b-ae378cbcadbe",
   "metadata": {},
   "source": [
    "### 4.1.2) 추후 지역명 match를 위해 지역명 수정"
   ]
  },
  {
   "cell_type": "code",
   "execution_count": 10,
   "id": "cd301484-255d-4611-94ac-4ac324aeecd6",
   "metadata": {},
   "outputs": [],
   "source": [
    "# 위치 변경 매핑을 정의\n",
    "location_map = {\n",
    "    '구성산': '전주(구성산)',\n",
    "    '약산': '대구(약산)',\n",
    "    '봉화산': '울산(봉화산)',\n",
    "    '덕두산': '남원(덕두산)',\n",
    "    '홍산': '전주(홍산)',\n",
    "    '방장산': '광주(방장산)',\n",
    "    '구좌': '제주(구좌)',\n",
    "    '미악산': '제주(지악산)',\n",
    "    '서운산': '천안(서운산)',\n",
    "    '오천': '천안(오천)',\n",
    "    '북좌': '천안(북좌)',\n",
    "    '퇴촌': '양평(퇴촌)',\n",
    "    '고령': '대구(고령)',\n",
    "    '광주 북구 영산강변 드론공원': '광주(광주 북구 영산강변 드론공원)',\n",
    "    '광나루 한강변 드론공원': '서울(광나루 한강변 드론공원)'\n",
    "}\n",
    "\n",
    "# '위치' 컬럼에 있는 값들을 매핑된 값으로 변경\n",
    "df_circle['위치'] = df_circle['위치'].map(location_map).fillna(df_circle['위치'])"
   ]
  },
  {
   "cell_type": "markdown",
   "id": "4652729b-eb31-45d1-b613-e8246ef40608",
   "metadata": {},
   "source": [
    "### 4.1.3) 지역명 수정 값 확인 - Circle 데이터"
   ]
  },
  {
   "cell_type": "code",
   "execution_count": 11,
   "id": "991ca224-7d8f-49a8-8954-02d14a45cc08",
   "metadata": {},
   "outputs": [
    {
     "name": "stdout",
     "output_type": "stream",
     "text": [
      "  구역 코드       위치   반경         위도          경도\n",
      "0  UA 2  전주(구성산)  1.8  35.739167    127.0075\n",
      "1  UA 3   대구(약산)  0.7  35.739167  128.417222\n",
      "2  UA 4  울산(봉화산)  4.0  35.625278  129.092222\n",
      "3  UA 5  남원(덕두산)  4.5  35.411389    127.5325\n",
      "4  UA 6       금산  2.1  34.736389  127.981111\n"
     ]
    }
   ],
   "source": [
    "print(df_circle.head())"
   ]
  },
  {
   "cell_type": "markdown",
   "id": "faf5bb47-748b-4fd9-a308-fdb776b9736b",
   "metadata": {},
   "source": [
    "### 4.2.1) NE 데이터(다각형 좌표) 불러오기"
   ]
  },
  {
   "cell_type": "code",
   "execution_count": 12,
   "id": "57de3b42-58e4-4755-a482-daa27ee56a1c",
   "metadata": {},
   "outputs": [],
   "source": [
    "df_NE = build_ne_table()"
   ]
  },
  {
   "cell_type": "markdown",
   "id": "1c0eb70e-a6a1-4549-857a-9e16b929a991",
   "metadata": {},
   "source": [
    "### 4.2.2) 추후 지역명 match를 위해 지역명 수정"
   ]
  },
  {
   "cell_type": "code",
   "execution_count": 13,
   "id": "528241da-efaf-41c7-8482-2e9faafb1c3b",
   "metadata": {},
   "outputs": [],
   "source": [
    "# 위치 변경 매핑을 정의\n",
    "location_map = {\n",
    "    '공주': '세종(공주)',\n",
    "    '시화호': '수원(시화호)',\n",
    "    '하동': '광양(하동)',\n",
    "    '장암산': '영월(장암산)',\n",
    "    '청라': '인천(청라)',\n",
    "    '병천천': '청주(병천천)',\n",
    "    '미호천': '청주(미호천)',\n",
    "    '울주': '울산(울주)',\n",
    "    '김제': '군산(김제)',\n",
    "    '대전 금강변 드론공원': '대전(대전 금강변 드론공원)'\n",
    "}\n",
    "\n",
    "# '위치' 컬럼에 있는 값들을 매핑된 값으로 변경\n",
    "df_NE['위치'] = df_NE['위치'].map(location_map).fillna(df_NE['위치'])"
   ]
  },
  {
   "cell_type": "markdown",
   "id": "865783f6-67f5-43dd-9268-b25921da1d27",
   "metadata": {},
   "source": [
    "### 4.3.3) 지역명 수정 값 확인 - NE 데이터"
   ]
  },
  {
   "cell_type": "code",
   "execution_count": 14,
   "id": "c899610a-e323-4dc6-9365-68a40e9827c2",
   "metadata": {},
   "outputs": [
    {
     "name": "stdout",
     "output_type": "stream",
     "text": [
      "   구역 코드       위치                                                 NE\n",
      "0   UA 9       양평  [(37.45, 127.38333333333334), (37.502777777777...\n",
      "1  UA 14   세종(공주)  [(36.45805555555556, 126.96388888888889), (36....\n",
      "2  UA 19  수원(시화호)  [(37.212500000000006, 126.67472222222223), (37...\n",
      "3  UA 25   광양(하동)  [(34.98777777777778, 127.72333333333333), (35....\n",
      "4  UA 26  영월(장암산)  [(37.36972222222222, 128.39194444444445), (37....\n"
     ]
    }
   ],
   "source": [
    "print(df_NE.head())"
   ]
  },
  {
   "cell_type": "markdown",
   "id": "59d39924-5893-4054-8f92-06d946ad3b04",
   "metadata": {},
   "source": [
    "## 5) 기상 데이터 전처리"
   ]
  },
  {
   "cell_type": "markdown",
   "id": "cf8313df-3814-47c6-a4b8-e4cb5bb7d0bd",
   "metadata": {},
   "source": [
    "### 5.1.1) 기상 데이터 지역별 전처리를 위한 파일 불러오기"
   ]
  },
  {
   "cell_type": "code",
   "execution_count": 15,
   "id": "40b8282c-e23a-485b-87a7-6ca5c6a326c5",
   "metadata": {},
   "outputs": [],
   "source": [
    "# 1. CSV 파일 읽어오기 (다른 인코딩 시도)\n",
    "file_path = \"C:/Users/user/Desktop/python 정리집/웹크롤링 팀프로젝트/기상데이터/weather_yn.csv\"\n",
    "\n",
    "# euc-kr 또는 utf-8-sig 시도 (한글 깨짐 해결)\n",
    "df_weather = pd.read_csv(file_path, encoding='euc-kr') "
   ]
  },
  {
   "cell_type": "markdown",
   "id": "083ee475-4fcf-4a4f-b026-e54969084e36",
   "metadata": {},
   "source": [
    "### 5.1.2) 데이터 구조 확인"
   ]
  },
  {
   "cell_type": "code",
   "execution_count": 16,
   "id": "399f6c09-9081-4aa1-b6e4-fb6b35382169",
   "metadata": {},
   "outputs": [
    {
     "name": "stdout",
     "output_type": "stream",
     "text": [
      "      stnId stnNm   yyyymm  days_in_month  yn_month  avg_yn_month\n",
      "0        90    속초  2024-01             31        17      0.548387\n",
      "1        90    속초  2024-02             29        13      0.448276\n",
      "2        90    속초  2024-03             31        18      0.580645\n",
      "3        90    속초  2024-04             30        25      0.833333\n",
      "4        90    속초  2024-05             31        24      0.774194\n",
      "...     ...   ...      ...            ...       ...           ...\n",
      "1147    295    남해  2024-08             31        28      0.903226\n",
      "1148    295    남해  2024-09             30        24      0.800000\n",
      "1149    295    남해  2024-10             31        20      0.645161\n",
      "1150    295    남해  2024-11             30        25      0.833333\n",
      "1151    295    남해  2024-12             31        31      1.000000\n",
      "\n",
      "[1152 rows x 6 columns]\n"
     ]
    }
   ],
   "source": [
    "print(df_weather)"
   ]
  },
  {
   "cell_type": "markdown",
   "id": "f2a94ef8-6fa2-4b54-bf79-ab375922bae6",
   "metadata": {},
   "source": [
    "### 5.1.3) 지역별 월별 종합 수치를 그룹화"
   ]
  },
  {
   "cell_type": "code",
   "execution_count": 17,
   "id": "5e95aa66-c670-46f3-aa57-18a9cd8b488d",
   "metadata": {},
   "outputs": [],
   "source": [
    "pivot_table = df_weather.pivot_table(index='stnNm', columns='yyyymm', values='yn_month', aggfunc='sum', fill_value=0)"
   ]
  },
  {
   "cell_type": "markdown",
   "id": "2adee4a5-fb1c-47ed-86ce-627e78c44c8e",
   "metadata": {},
   "source": [
    "### 5.1.4) 지역별 종합 컬럼 추가"
   ]
  },
  {
   "cell_type": "code",
   "execution_count": 18,
   "id": "0c6b191c-b47b-46d2-9fb1-c6c32b61d8d2",
   "metadata": {},
   "outputs": [],
   "source": [
    "pivot_table['합계'] = pivot_table.sum(axis=1)"
   ]
  },
  {
   "cell_type": "markdown",
   "id": "9c76c0cf-7493-49c2-bb39-41550d89bc21",
   "metadata": {},
   "source": [
    "### 5.1.5) 데이터 결과 확인"
   ]
  },
  {
   "cell_type": "code",
   "execution_count": 19,
   "id": "6376105d-9f6f-47d1-aeb5-523703e949dc",
   "metadata": {},
   "outputs": [
    {
     "name": "stdout",
     "output_type": "stream",
     "text": [
      "yyyymm  2024-01  2024-02  2024-03  2024-04  2024-05  2024-06  2024-07  \\\n",
      "stnNm                                                                   \n",
      "강릉           20       13       21       24       26       21       14   \n",
      "강진군          15       14       18       20       22       23       13   \n",
      "강화           10       12       24       24       24       23       11   \n",
      "거제           20       15       21       21       22       21       10   \n",
      "거창           13       15       18       20       20       21       15   \n",
      "...         ...      ...      ...      ...      ...      ...      ...   \n",
      "합천           17       16       22       21       21       23       12   \n",
      "해남           17       13       18       19       22       23       13   \n",
      "홍성            9       16       20       22       23       25       12   \n",
      "홍천            8       12       20       24       24       21       12   \n",
      "흑산도          16       13       20       22       25       24       12   \n",
      "\n",
      "yyyymm  2024-08  2024-09  2024-10  2024-11  2024-12   합계  \n",
      "stnNm                                                     \n",
      "강릉           21       13       23       22       27  245  \n",
      "강진군          25       19       18       20       25  232  \n",
      "강화           19       20       21       20        8  216  \n",
      "거제           23       25       18       24       31  251  \n",
      "거창           23       24       21       24       23  237  \n",
      "...         ...      ...      ...      ...      ...  ...  \n",
      "합천           26       24       22       26       29  259  \n",
      "해남           23       21       19       20       26  234  \n",
      "홍성           21       23       21       20       15  227  \n",
      "홍천           25       20       23       22        5  216  \n",
      "흑산도          26       22       16       14       20  230  \n",
      "\n",
      "[96 rows x 13 columns]\n"
     ]
    }
   ],
   "source": [
    "print(pivot_table)"
   ]
  },
  {
   "cell_type": "markdown",
   "id": "e56ce721-203e-41ee-82fd-f66b83b6254f",
   "metadata": {},
   "source": [
    "### 5.2.1) 기상 데이터 및 지역 데이터 불러오기"
   ]
  },
  {
   "cell_type": "code",
   "execution_count": 20,
   "id": "29b861b8-db86-498b-9ead-e89b521d8b04",
   "metadata": {},
   "outputs": [],
   "source": [
    "circle_df = build_circle_table()\n",
    "ne_df = build_ne_table()\n",
    "total_df = df_weather"
   ]
  },
  {
   "cell_type": "markdown",
   "id": "1fa736de-c423-4a54-a3fd-2af783b6f366",
   "metadata": {},
   "source": [
    "### 5.2.2) Circle 데이터와 NE 데이터에서 지역명 추출"
   ]
  },
  {
   "cell_type": "code",
   "execution_count": 21,
   "id": "752e4c9f-9f37-42a9-865c-8098e56e7397",
   "metadata": {},
   "outputs": [],
   "source": [
    "circle_df['위치_앞두자리'] = circle_df['위치'].str[:2]\n",
    "ne_df['위치_앞두자리'] = ne_df['위치'].str[:2]"
   ]
  },
  {
   "cell_type": "markdown",
   "id": "773a08c6-d98e-4020-b26b-cbc5675f0ed4",
   "metadata": {},
   "source": [
    "### 5.2.3) 기상 데이터에서 지역명 추출"
   ]
  },
  {
   "cell_type": "code",
   "execution_count": 22,
   "id": "66a3bf65-f40b-4a9f-8217-7c0685cbcbcb",
   "metadata": {},
   "outputs": [],
   "source": [
    "total_df['stnNm_앞두자리'] = total_df['stnNm'].str[:2]"
   ]
  },
  {
   "cell_type": "markdown",
   "id": "418b0a6b-687d-46bb-a7e7-6fe347a13347",
   "metadata": {},
   "source": [
    "### 5.2.4) Circle 데이터와 NE 데이터에서 일치하는 지역명 필터링"
   ]
  },
  {
   "cell_type": "code",
   "execution_count": 23,
   "id": "a6decd50-ace7-428f-9f07-3cf721415dc9",
   "metadata": {},
   "outputs": [],
   "source": [
    "circle_filtered = circle_df[circle_df['위치_앞두자리'].isin(total_df['stnNm_앞두자리'])]\n",
    "ne_filtered = ne_df[ne_df['위치_앞두자리'].isin(total_df['stnNm_앞두자리'])]"
   ]
  },
  {
   "cell_type": "markdown",
   "id": "4bb7f1f0-bfe2-4a50-a2d2-bb090431f843",
   "metadata": {},
   "source": [
    "### 5.2.5) 필터링한 지역명 합쳐서 다시 필터링"
   ]
  },
  {
   "cell_type": "code",
   "execution_count": 24,
   "id": "bc81b008-df13-4f2f-a5f8-3f3c7ed42e73",
   "metadata": {},
   "outputs": [],
   "source": [
    "merged_filtered = pd.concat([circle_filtered, ne_filtered], ignore_index=True)\n",
    "final_filtered = total_df[total_df['stnNm_앞두자리'].isin(merged_filtered['위치_앞두자리'])]"
   ]
  },
  {
   "cell_type": "markdown",
   "id": "9bf2625f-d4a0-44b7-9a9a-5e00344066d5",
   "metadata": {},
   "source": [
    "### 5.2.6) 테이블 정제 작업"
   ]
  },
  {
   "cell_type": "code",
   "execution_count": 25,
   "id": "75a300cb-e311-4035-bd3d-d70180051356",
   "metadata": {},
   "outputs": [
    {
     "name": "stdout",
     "output_type": "stream",
     "text": [
      "     stnId stnNm   yyyymm  days_in_month  yn_month  avg_yn_month\n",
      "0      121    영월  2024-01             31        12      0.387097\n",
      "1      121    영월  2024-02             29        15      0.517241\n",
      "2      121    영월  2024-03             31        18      0.580645\n",
      "3      121    영월  2024-04             30        25      0.833333\n",
      "4      121    영월  2024-05             31        21      0.677419\n",
      "..     ...   ...      ...            ...       ...           ...\n",
      "127    288    밀양  2024-08             31        21      0.677419\n",
      "128    288    밀양  2024-09             30        25      0.833333\n",
      "129    288    밀양  2024-10             31        20      0.645161\n",
      "130    288    밀양  2024-11             30        26      0.866667\n",
      "131    288    밀양  2024-12             31        30      0.967742\n",
      "\n",
      "[132 rows x 6 columns]\n"
     ]
    }
   ],
   "source": [
    "final_filtered = final_filtered.reset_index(drop=True)\n",
    "final_filtered = final_filtered.drop(columns=['stnNm_앞두자리'])\n",
    "print(final_filtered)"
   ]
  },
  {
   "cell_type": "markdown",
   "id": "2fe21022-db37-4aa1-a176-4b66e7c117f5",
   "metadata": {},
   "source": [
    "## 6) 최종 데이터 csv 파일"
   ]
  },
  {
   "cell_type": "code",
   "execution_count": 26,
   "id": "07ebc6aa-c2f4-462c-9bb4-48340c59197f",
   "metadata": {},
   "outputs": [],
   "source": [
    "# circle_table.to_csv\n",
    "# ne_table.to_csv"
   ]
  }
 ],
 "metadata": {
  "kernelspec": {
   "display_name": "Python 3 (ipykernel)",
   "language": "python",
   "name": "python3"
  },
  "language_info": {
   "codemirror_mode": {
    "name": "ipython",
    "version": 3
   },
   "file_extension": ".py",
   "mimetype": "text/x-python",
   "name": "python",
   "nbconvert_exporter": "python",
   "pygments_lexer": "ipython3",
   "version": "3.12.7"
  }
 },
 "nbformat": 4,
 "nbformat_minor": 5
}
